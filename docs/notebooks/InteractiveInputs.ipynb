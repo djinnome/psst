{
 "cells": [
  {
   "cell_type": "markdown",
   "metadata": {},
   "source": [
    "# Interactive Inputs"
   ]
  },
  {
   "cell_type": "code",
   "execution_count": 1,
   "metadata": {},
   "outputs": [],
   "source": [
    "import ipywidgets as ipyw"
   ]
  },
  {
   "cell_type": "code",
   "execution_count": 2,
   "metadata": {},
   "outputs": [],
   "source": [
    "from psst.case.generator import Generator\n",
    "from psst.case.generator import GeneratorColumnView as GeneratorView\n",
    "from psst.case.generator import GeneratorCostView\n",
    "\n",
    "import ipywidgets as ipyw"
   ]
  },
  {
   "cell_type": "code",
   "execution_count": 3,
   "metadata": {},
   "outputs": [],
   "source": [
    "g = Generator(maximum_real_power=100)"
   ]
  },
  {
   "cell_type": "code",
   "execution_count": 4,
   "metadata": {},
   "outputs": [],
   "source": [
    "g.nsegments = 3"
   ]
  },
  {
   "cell_type": "code",
   "execution_count": 5,
   "metadata": {},
   "outputs": [],
   "source": [
    "gv = GeneratorView(g)\n",
    "gcv = GeneratorCostView(g)"
   ]
  },
  {
   "cell_type": "code",
   "execution_count": 6,
   "metadata": {},
   "outputs": [
    {
     "data": {
      "application/vnd.jupyter.widget-view+json": {
       "model_id": "e7b23e4baa04477287af973500544ef1",
       "version_major": 2,
       "version_minor": 0
      },
      "text/plain": [
       "HBox(children=(GeneratorColumnView(children=(HTML(value='Generator:'), Text(value='GenCo0', description='Name'…"
      ]
     },
     "metadata": {},
     "output_type": "display_data"
    }
   ],
   "source": [
    "ipyw.HBox(children=[gv, gcv])"
   ]
  }
 ],
 "metadata": {
  "kernelspec": {
   "display_name": "anaconda3-2019.10",
   "language": "python",
   "name": "anaconda3-2019.10"
  },
  "language_info": {
   "codemirror_mode": {
    "name": "ipython",
    "version": 3
   },
   "file_extension": ".py",
   "mimetype": "text/x-python",
   "name": "python",
   "nbconvert_exporter": "python",
   "pygments_lexer": "ipython3",
   "version": "3.7.4"
  },
  "widgets": {
   "application/vnd.jupyter.widget-state+json": {
    "state": {
     "000f6fd9562e44cdaaa688f8210cc1ae": {
      "model_module": "jupyter-js-widgets",
      "model_module_version": "~2.1.4",
      "model_name": "LayoutModel",
      "state": {
       "_model_module_version": "~2.1.4",
       "_view_module_version": "~2.1.4"
      }
     },
     "02c3c76ba69447718947461dfbde7dae": {
      "model_module": "bqplot",
      "model_module_version": "^0.2.3",
      "model_name": "AxisModel",
      "state": {
       "orientation": "vertical",
       "scale": "IPY_MODEL_0ed4f3335246481ab110cf7c6bed85a7",
       "side": "left",
       "tick_values": {
        "type": null,
        "values": null
       }
      }
     },
     "03002213695b46fea978a960235e61bd": {
      "model_module": "jupyter-js-widgets",
      "model_module_version": "~2.1.4",
      "model_name": "LayoutModel",
      "state": {
       "_model_module_version": "~2.1.4",
       "_view_module_version": "~2.1.4"
      }
     },
     "08e38064d54e4061b42ae42527a396b2": {
      "model_module": "jupyter-js-widgets",
      "model_module_version": "~2.1.4",
      "model_name": "FloatTextModel",
      "state": {
       "_model_module_version": "~2.1.4",
       "_view_module_version": "~2.1.4",
       "description": "Startup Time (hr):",
       "layout": "IPY_MODEL_44f595b052e44dc396438d4565b8e5e1",
       "max": 24,
       "min": 0,
       "step": 0.1
      }
     },
     "0962d009e890494ca690f1be63f865b3": {
      "model_module": "jupyter-js-widgets",
      "model_module_version": "~2.1.4",
      "model_name": "FloatTextModel",
      "state": {
       "_model_module_version": "~2.1.4",
       "_view_module_version": "~2.1.4",
       "description": "Startup Time (hr):",
       "layout": "IPY_MODEL_f74c6b3403b34663987ccb75aa0a60fc",
       "max": 24,
       "min": 0,
       "step": 0.1
      }
     },
     "0c9d074e55144026b52405be0d9c3ad4": {
      "model_module": "jupyter-js-widgets",
      "model_module_version": "~2.1.4",
      "model_name": "HBoxModel",
      "state": {
       "_model_module_version": "~2.1.4",
       "_view_module_version": "~2.1.4",
       "children": [
        "IPY_MODEL_6f231692635a4e5083fc922f4ddbb43e",
        "IPY_MODEL_f071c7803c2143b8b51e66005137dcaf"
       ],
       "layout": "IPY_MODEL_af0e515ea94a4c3580f455c58792803d"
      }
     },
     "0ed4f3335246481ab110cf7c6bed85a7": {
      "model_module": "bqplot",
      "model_module_version": "^0.2.3",
      "model_name": "LinearScaleModel",
      "state": {
       "max": 50,
       "min": 0,
       "stabilized": false
      }
     },
     "0f16656204ac478c9758f629c7c08053": {
      "model_module": "jupyter-js-widgets",
      "model_module_version": "~2.1.4",
      "model_name": "LinkModel",
      "state": {
       "_model_module_version": "~2.1.4",
       "_view_module_version": "~2.1.4",
       "source": [
        "IPY_MODEL_d948782a19284f649c5ef888c274244a",
        "y"
       ],
       "target": [
        "IPY_MODEL_98fd171e074443a3b917a460be41710b",
        "y"
       ]
      }
     },
     "0fef55d593ae4adb87a6fb99d5e872ea": {
      "model_module": "jupyter-js-widgets",
      "model_module_version": "~2.1.4",
      "model_name": "VBoxModel",
      "state": {
       "_model_module_version": "~2.1.4",
       "_view_module_version": "~2.1.4",
       "children": [
        "IPY_MODEL_5f54495ae6ba430ba68f1863416ba16e"
       ],
       "layout": "IPY_MODEL_21356b23f8a94d0fbf5e6fa389ad1e41"
      }
     },
     "106a98a8ebc0496caaa0584b517f098d": {
      "model_module": "jupyter-js-widgets",
      "model_module_version": "~2.1.4",
      "model_name": "LayoutModel",
      "state": {
       "_model_module_version": "~2.1.4",
       "_view_module_version": "~2.1.4"
      }
     },
     "10a0f015688d43b781f3760f8f7ccb68": {
      "model_module": "jupyter-js-widgets",
      "model_module_version": "~2.1.4",
      "model_name": "LayoutModel",
      "state": {
       "_model_module_version": "~2.1.4",
       "_view_module_version": "~2.1.4"
      }
     },
     "13105e6faf5744cfa12e2a5693df1ef6": {
      "model_module": "jupyter-js-widgets",
      "model_module_version": "~2.1.4",
      "model_name": "LinkModel",
      "state": {
       "_model_module_version": "~2.1.4",
       "_view_module_version": "~2.1.4",
       "source": [
        "IPY_MODEL_df1c5cc5e66f4d6eaca2d41ff8dcf026",
        "y"
       ],
       "target": [
        "IPY_MODEL_d272d797f394440dbc686c69d69fdc9e",
        "y"
       ]
      }
     },
     "17343a17cb054549b4031137806973bb": {
      "model_module": "jupyter-js-widgets",
      "model_module_version": "~2.1.4",
      "model_name": "LayoutModel",
      "state": {
       "_model_module_version": "~2.1.4",
       "_view_module_version": "~2.1.4"
      }
     },
     "1a4624c5322c415293ed41e54227f312": {
      "model_module": "jupyter-js-widgets",
      "model_module_version": "~2.1.4",
      "model_name": "DropdownModel",
      "state": {
       "_model_module_version": "~2.1.4",
       "_options_labels": [
        "COAL",
        "NATURALGAS",
        "WIND"
       ],
       "_view_module_version": "~2.1.4",
       "description": "Generation Type:",
       "layout": "IPY_MODEL_51e67d49e510458c90a9f3a113321fa5",
       "value": "NATURALGAS"
      }
     },
     "1a699dbd34fa44c5abb1eee67e584827": {
      "model_module": "jupyter-js-widgets",
      "model_module_version": "~2.1.4",
      "model_name": "VBoxModel",
      "state": {
       "_model_module_version": "~2.1.4",
       "_view_module_version": "~2.1.4",
       "children": [
        "IPY_MODEL_34de7618965444f0b54235ee357239bd"
       ],
       "layout": "IPY_MODEL_6514d623a1254d6b91fe324a2613fff7"
      }
     },
     "1ce41ab01f8f47109874b4a9d926d2de": {
      "model_module": "jupyter-js-widgets",
      "model_module_version": "~2.1.4",
      "model_name": "FloatTextModel",
      "state": {
       "_model_module_version": "~2.1.4",
       "_view_module_version": "~2.1.4",
       "description": "Initial Generation (MW):",
       "layout": "IPY_MODEL_820b23446f6847ae98e33a06adb05e2a",
       "max": 100,
       "min": 0,
       "step": 0.1
      }
     },
     "1e0f60efb5974430bafa7ea3c4f19dcd": {
      "model_module": "jupyter-js-widgets",
      "model_module_version": "~2.1.4",
      "model_name": "LayoutModel",
      "state": {
       "_model_module_version": "~2.1.4",
       "_view_module_version": "~2.1.4"
      }
     },
     "1e897850841749efbea9cb2f18840136": {
      "model_module": "jupyter-js-widgets",
      "model_module_version": "~2.1.4",
      "model_name": "FloatTextModel",
      "state": {
       "_model_module_version": "~2.1.4",
       "_view_module_version": "~2.1.4",
       "description": "Minimum Generation (MW):",
       "layout": "IPY_MODEL_88147b6e90bc45b08026dd88fed299ac",
       "max": 100,
       "min": 0,
       "step": 0.1
      }
     },
     "2097a3e969ec482ba9a54886ad8e284a": {
      "model_module": "jupyter-js-widgets",
      "model_module_version": "~2.1.4",
      "model_name": "FloatTextModel",
      "state": {
       "_model_module_version": "~2.1.4",
       "_view_module_version": "~2.1.4",
       "description": "Capacity (MW):",
       "layout": "IPY_MODEL_c82fc6e8f0e742bb9b1b97a7e4647b89",
       "max": 10000000000,
       "min": 0,
       "step": 0.1,
       "value": 100
      }
     },
     "21356b23f8a94d0fbf5e6fa389ad1e41": {
      "model_module": "jupyter-js-widgets",
      "model_module_version": "~2.1.4",
      "model_name": "LayoutModel",
      "state": {
       "_model_module_version": "~2.1.4",
       "_view_module_version": "~2.1.4"
      }
     },
     "21a37d7649ac436c9b03acd9d917a621": {
      "model_module": "jupyter-js-widgets",
      "model_module_version": "~2.1.4",
      "model_name": "HTMLModel",
      "state": {
       "_model_module_version": "~2.1.4",
       "_view_module_version": "~2.1.4",
       "layout": "IPY_MODEL_64bfc1a0917245e6b6cf36f30bbaebb6",
       "value": "Generator:"
      }
     },
     "252070ce59b1403181ad4e5071fc58fd": {
      "model_module": "jupyter-js-widgets",
      "model_module_version": "~2.1.4",
      "model_name": "CheckboxModel",
      "state": {
       "_model_module_version": "~2.1.4",
       "_view_module_version": "~2.1.4",
       "description": "Initial Status:",
       "disabled": false,
       "layout": "IPY_MODEL_556043ae020749adaec13c39b8239d11",
       "value": true
      }
     },
     "2822f0addf2241598e7efe1d9561dd7f": {
      "model_module": "jupyter-js-widgets",
      "model_module_version": "~2.1.4",
      "model_name": "LayoutModel",
      "state": {
       "_model_module_version": "~2.1.4",
       "_view_module_version": "~2.1.4"
      }
     },
     "2acd991b74c54315a05d98ee5019f204": {
      "model_module": "bqplot",
      "model_module_version": "^0.2.3",
      "model_name": "LinesModel",
      "state": {
       "color": {
        "type": null,
        "values": null
       },
       "display_legend": false,
       "fill_colors": [],
       "labels": [
        "C1"
       ],
       "scales": {
        "x": "IPY_MODEL_2dcfee4dd8b64d958dc96fdec364c352",
        "y": "IPY_MODEL_0ed4f3335246481ab110cf7c6bed85a7"
       },
       "selected": [],
       "x": {
        "type": "float",
        "values": [
         20,
         60,
         100
        ]
       },
       "y": {
        "type": "float",
        "values": [
         0,
         0,
         0
        ]
       }
      }
     },
     "2dcf0fada20f4d24af435520897bec21": {
      "model_module": "jupyter-js-widgets",
      "model_module_version": "~2.1.4",
      "model_name": "LayoutModel",
      "state": {
       "_model_module_version": "~2.1.4",
       "_view_module_version": "~2.1.4"
      }
     },
     "2dcfee4dd8b64d958dc96fdec364c352": {
      "model_module": "bqplot",
      "model_module_version": "^0.2.3",
      "model_name": "LinearScaleModel",
      "state": {
       "max": 100,
       "min": 0,
       "stabilized": false
      }
     },
     "2fd2d8129be3467bbe9fe2307f9c5138": {
      "model_module": "bqplot",
      "model_module_version": "^0.2.3",
      "model_name": "LinearScaleModel",
      "state": {
       "allow_padding": false,
       "max": 1,
       "min": 0,
       "stabilized": false
      }
     },
     "2fea1fa9609e4a92b123ed80442610ae": {
      "model_module": "bqplot",
      "model_module_version": "^0.2.3",
      "model_name": "AxisModel",
      "state": {
       "scale": "IPY_MODEL_2dcfee4dd8b64d958dc96fdec364c352",
       "side": "bottom",
       "tick_values": {
        "type": null,
        "values": null
       }
      }
     },
     "30a85b5565f14b25910cf7d5c6053e72": {
      "model_module": "jupyter-js-widgets",
      "model_module_version": "~2.1.4",
      "model_name": "LayoutModel",
      "state": {
       "_model_module_version": "~2.1.4",
       "_view_module_version": "~2.1.4"
      }
     },
     "3405d9ab6b8749418a0da8435bde65b2": {
      "model_module": "jupyter-js-widgets",
      "model_module_version": "~2.1.4",
      "model_name": "LayoutModel",
      "state": {
       "_model_module_version": "~2.1.4",
       "_view_module_version": "~2.1.4"
      }
     },
     "34de7618965444f0b54235ee357239bd": {
      "model_module": "bqplot",
      "model_module_version": "^0.2.3",
      "model_name": "FigureModel",
      "state": {
       "_dom_classes": [],
       "axes": [
        "IPY_MODEL_db7188a42b404d13ae5de04dbf9190ba",
        "IPY_MODEL_70626d0c74b84ee5a54d9f0b767882a7"
       ],
       "layout": "IPY_MODEL_7387f50da7704ea5811321f6d58577ad",
       "marks": [
        "IPY_MODEL_d948782a19284f649c5ef888c274244a",
        "IPY_MODEL_98fd171e074443a3b917a460be41710b"
       ],
       "max_aspect_ratio": 6,
       "scale_x": "IPY_MODEL_e99d1d0f73d1490c8788b248ff10efaf",
       "scale_y": "IPY_MODEL_779835465fc84bc084f6bed37af4548b"
      }
     },
     "3892b57b589b44a88f97bc3b0c90ff01": {
      "model_module": "jupyter-js-widgets",
      "model_module_version": "~2.1.4",
      "model_name": "HBoxModel",
      "state": {
       "_model_module_version": "~2.1.4",
       "_view_module_version": "~2.1.4",
       "children": [
        "IPY_MODEL_5a13c17e0d174434aa6e1255a6a3cf2e",
        "IPY_MODEL_1a699dbd34fa44c5abb1eee67e584827"
       ],
       "layout": "IPY_MODEL_2dcf0fada20f4d24af435520897bec21"
      }
     },
     "3fc9b8c266234ec088dda000cf4b8970": {
      "model_module": "jupyter-js-widgets",
      "model_module_version": "~2.1.4",
      "model_name": "LayoutModel",
      "state": {
       "_model_module_version": "~2.1.4",
       "_view_module_version": "~2.1.4",
       "min_width": "125px"
      }
     },
     "4351fe90e0624a94b2acf9d65334c48d": {
      "model_module": "jupyter-js-widgets",
      "model_module_version": "~2.1.4",
      "model_name": "LayoutModel",
      "state": {
       "_model_module_version": "~2.1.4",
       "_view_module_version": "~2.1.4"
      }
     },
     "44f595b052e44dc396438d4565b8e5e1": {
      "model_module": "jupyter-js-widgets",
      "model_module_version": "~2.1.4",
      "model_name": "LayoutModel",
      "state": {
       "_model_module_version": "~2.1.4",
       "_view_module_version": "~2.1.4"
      }
     },
     "47a9916735024ba5b2e6856167e89079": {
      "model_module": "jupyter-js-widgets",
      "model_module_version": "~2.1.4",
      "model_name": "DropdownModel",
      "state": {
       "_model_module_version": "~2.1.4",
       "_options_labels": [
        "COAL",
        "NATURALGAS",
        "WIND"
       ],
       "_view_module_version": "~2.1.4",
       "description": "Generation Type:",
       "layout": "IPY_MODEL_89c4bc4a6cef4b5d9a7a5f8d3cc54d70",
       "value": "COAL"
      }
     },
     "48718590185a43b1b5ab5c4a26578b90": {
      "model_module": "jupyter-js-widgets",
      "model_module_version": "~2.1.4",
      "model_name": "TextModel",
      "state": {
       "_model_module_version": "~2.1.4",
       "_view_module_version": "~2.1.4",
       "description": "Name",
       "layout": "IPY_MODEL_9600a08e5ae64e6eb7d8c393f6aca4cd",
       "value": "GenCo0"
      }
     },
     "4b061ee052bc4aea8681eab766c78bf0": {
      "model_module": "jupyter-js-widgets",
      "model_module_version": "~2.1.4",
      "model_name": "FloatTextModel",
      "state": {
       "_model_module_version": "~2.1.4",
       "_view_module_version": "~2.1.4",
       "description": "Shutdown Time (hr):",
       "layout": "IPY_MODEL_ae23f67356dc4ab681e0d9d53fb0c5af",
       "max": 24,
       "min": 0,
       "step": 0.1
      }
     },
     "4b54d7bc2167487ebc04087685cebb5b": {
      "model_module": "jupyter-js-widgets",
      "model_module_version": "~2.1.4",
      "model_name": "LayoutModel",
      "state": {
       "_model_module_version": "~2.1.4",
       "_view_module_version": "~2.1.4"
      }
     },
     "51e67d49e510458c90a9f3a113321fa5": {
      "model_module": "jupyter-js-widgets",
      "model_module_version": "~2.1.4",
      "model_name": "LayoutModel",
      "state": {
       "_model_module_version": "~2.1.4",
       "_view_module_version": "~2.1.4"
      }
     },
     "556043ae020749adaec13c39b8239d11": {
      "model_module": "jupyter-js-widgets",
      "model_module_version": "~2.1.4",
      "model_name": "LayoutModel",
      "state": {
       "_model_module_version": "~2.1.4",
       "_view_module_version": "~2.1.4"
      }
     },
     "568ad95114564383b159e020d315c1a7": {
      "model_module": "jupyter-js-widgets",
      "model_module_version": "~2.1.4",
      "model_name": "LayoutModel",
      "state": {
       "_model_module_version": "~2.1.4",
       "_view_module_version": "~2.1.4"
      }
     },
     "56a1f99080e84fac9a268922d586cd4d": {
      "model_module": "jupyter-js-widgets",
      "model_module_version": "~2.1.4",
      "model_name": "LayoutModel",
      "state": {
       "_model_module_version": "~2.1.4",
       "_view_module_version": "~2.1.4"
      }
     },
     "575d588d73cc4798bd1b652db8c81d93": {
      "model_module": "bqplot",
      "model_module_version": "^0.2.3",
      "model_name": "FigureModel",
      "state": {
       "_dom_classes": [],
       "axes": [
        "IPY_MODEL_6cae00ca2e244fee97a9cead0ec11cf7",
        "IPY_MODEL_78c91948eb974a73a246e8460e3123ce"
       ],
       "layout": "IPY_MODEL_900e944c59514f76a89b81ad9a4ffb9b",
       "marks": [
        "IPY_MODEL_df1c5cc5e66f4d6eaca2d41ff8dcf026",
        "IPY_MODEL_d272d797f394440dbc686c69d69fdc9e"
       ],
       "max_aspect_ratio": 6,
       "scale_x": "IPY_MODEL_c68c1adf47b944839faffd3fd64e3c6a",
       "scale_y": "IPY_MODEL_b401c5d90f1c4c37b9a0995f92efd184"
      }
     },
     "59dc24388c714876b95b3dad2642de29": {
      "model_module": "jupyter-js-widgets",
      "model_module_version": "~2.1.4",
      "model_name": "IntSliderModel",
      "state": {
       "_model_module_version": "~2.1.4",
       "_view_module_version": "~2.1.4",
       "description": "Number of Cost Curve Segments",
       "layout": "IPY_MODEL_3405d9ab6b8749418a0da8435bde65b2",
       "max": 50,
       "min": 2,
       "style": "IPY_MODEL_ee8db3bf511a48d89b8f3d0125045879",
       "value": 2
      }
     },
     "5a13c17e0d174434aa6e1255a6a3cf2e": {
      "model_module": "jupyter-js-widgets",
      "model_module_version": "~2.1.4",
      "model_name": "VBoxModel",
      "state": {
       "_model_module_version": "~2.1.4",
       "_view_module_version": "~2.1.4",
       "children": [
        "IPY_MODEL_ef5498ace7d140698a14e10afe0e8e99",
        "IPY_MODEL_48718590185a43b1b5ab5c4a26578b90",
        "IPY_MODEL_a2245f911ae7469b89ffc3506c106702",
        "IPY_MODEL_47a9916735024ba5b2e6856167e89079",
        "IPY_MODEL_c5844a34ad014267bb56fcaf07fcf0b3",
        "IPY_MODEL_f4d5ac8d602c45b8a3879ea7f8380c62",
        "IPY_MODEL_1ce41ab01f8f47109874b4a9d926d2de",
        "IPY_MODEL_62468e375d5049aca09102da37bc12ab",
        "IPY_MODEL_90ef21523db64cb59438f435713db8ec",
        "IPY_MODEL_6b7477c512374d7390b846a778edf4b9",
        "IPY_MODEL_e3578ab3b0894ee8b227aef266bc7813",
        "IPY_MODEL_f5ac4e067c1e4ef78396721f3911d7f1",
        "IPY_MODEL_745e1564ca694e03b707bc9df3ec87b6",
        "IPY_MODEL_e32a994d08694a85a889191dc5ea6c72",
        "IPY_MODEL_ee9a32475ebc4fa1ac48727e48c46dd4",
        "IPY_MODEL_f20358e5895e45c2bb909594f710e090"
       ],
       "layout": "IPY_MODEL_56a1f99080e84fac9a268922d586cd4d"
      }
     },
     "5c5fec0242ba432e9c85220a61ab13d4": {
      "model_module": "jupyter-js-widgets",
      "model_module_version": "~2.1.4",
      "model_name": "CheckboxModel",
      "state": {
       "_model_module_version": "~2.1.4",
       "_view_module_version": "~2.1.4",
       "description": "Initial Status:",
       "disabled": false,
       "layout": "IPY_MODEL_735d7600e2a34e8aba519920a758a3ed",
       "value": true
      }
     },
     "5f54495ae6ba430ba68f1863416ba16e": {
      "model_module": "bqplot",
      "model_module_version": "^0.2.3",
      "model_name": "FigureModel",
      "state": {
       "_dom_classes": [],
       "axes": [
        "IPY_MODEL_2fea1fa9609e4a92b123ed80442610ae",
        "IPY_MODEL_02c3c76ba69447718947461dfbde7dae"
       ],
       "layout": "IPY_MODEL_3fc9b8c266234ec088dda000cf4b8970",
       "marks": [
        "IPY_MODEL_2acd991b74c54315a05d98ee5019f204",
        "IPY_MODEL_f00d4cf9807d4d07a4a229c00f0365b9"
       ],
       "max_aspect_ratio": 6,
       "scale_x": "IPY_MODEL_2fd2d8129be3467bbe9fe2307f9c5138",
       "scale_y": "IPY_MODEL_859eef99d5dd400582bb58edbb343400"
      }
     },
     "5fd3f8b8e8594f15b8ad15fe62c60e06": {
      "model_module": "jupyter-js-widgets",
      "model_module_version": "~2.1.4",
      "model_name": "LayoutModel",
      "state": {
       "_model_module_version": "~2.1.4",
       "_view_module_version": "~2.1.4"
      }
     },
     "6160ab47ec3c45d2916ecd7526eb69f8": {
      "model_module": "jupyter-js-widgets",
      "model_module_version": "~2.1.4",
      "model_name": "LayoutModel",
      "state": {
       "_model_module_version": "~2.1.4",
       "_view_module_version": "~2.1.4"
      }
     },
     "62468e375d5049aca09102da37bc12ab": {
      "model_module": "jupyter-js-widgets",
      "model_module_version": "~2.1.4",
      "model_name": "FloatTextModel",
      "state": {
       "_model_module_version": "~2.1.4",
       "_view_module_version": "~2.1.4",
       "description": "Minimum Up Time (hr):",
       "layout": "IPY_MODEL_f8bc611069374a9e876af72d146ea79d",
       "max": 24,
       "min": 0,
       "step": 0.1
      }
     },
     "64bfc1a0917245e6b6cf36f30bbaebb6": {
      "model_module": "jupyter-js-widgets",
      "model_module_version": "~2.1.4",
      "model_name": "LayoutModel",
      "state": {
       "_model_module_version": "~2.1.4",
       "_view_module_version": "~2.1.4"
      }
     },
     "6514d623a1254d6b91fe324a2613fff7": {
      "model_module": "jupyter-js-widgets",
      "model_module_version": "~2.1.4",
      "model_name": "LayoutModel",
      "state": {
       "_model_module_version": "~2.1.4",
       "_view_module_version": "~2.1.4"
      }
     },
     "6b2d1aeb3bbf4163b1df5c5d667c63d3": {
      "model_module": "jupyter-js-widgets",
      "model_module_version": "~2.1.4",
      "model_name": "LayoutModel",
      "state": {
       "_model_module_version": "~2.1.4",
       "_view_module_version": "~2.1.4"
      }
     },
     "6b7477c512374d7390b846a778edf4b9": {
      "model_module": "jupyter-js-widgets",
      "model_module_version": "~2.1.4",
      "model_name": "IntSliderModel",
      "state": {
       "_model_module_version": "~2.1.4",
       "_view_module_version": "~2.1.4",
       "description": "Number of Cost Curve Segments",
       "layout": "IPY_MODEL_e285ad2add284bdab5e60d2d1369e02b",
       "max": 50,
       "min": 2,
       "style": "IPY_MODEL_bd0094dea0a6496fbbcfca437edce834",
       "value": 3
      }
     },
     "6b9c203ca60545818f4bee22aeee3dc1": {
      "model_module": "jupyter-js-widgets",
      "model_module_version": "~2.1.4",
      "model_name": "LayoutModel",
      "state": {
       "_model_module_version": "~2.1.4",
       "_view_module_version": "~2.1.4"
      }
     },
     "6cae00ca2e244fee97a9cead0ec11cf7": {
      "model_module": "bqplot",
      "model_module_version": "^0.2.3",
      "model_name": "AxisModel",
      "state": {
       "scale": "IPY_MODEL_acaf7624ba5a466c8c64046d12d8f942",
       "side": "bottom",
       "tick_values": {
        "type": null,
        "values": null
       }
      }
     },
     "6ccdda429efe4205a749ac38f6e156f3": {
      "model_module": "jupyter-js-widgets",
      "model_module_version": "~2.1.4",
      "model_name": "FloatTextModel",
      "state": {
       "_model_module_version": "~2.1.4",
       "_view_module_version": "~2.1.4",
       "description": "No-Load Cost ($/hr):",
       "layout": "IPY_MODEL_1e0f60efb5974430bafa7ea3c4f19dcd",
       "max": 10000000000,
       "min": 0,
       "step": 0.1
      }
     },
     "6d71ce23905f447ba141e75fe0d232cd": {
      "model_module": "jupyter-js-widgets",
      "model_module_version": "~2.1.4",
      "model_name": "FloatTextModel",
      "state": {
       "_model_module_version": "~2.1.4",
       "_view_module_version": "~2.1.4",
       "description": "Ramp Up Rate (MW/hr):",
       "layout": "IPY_MODEL_bcc86c2c144140abbd072c37e59e37db",
       "max": 100,
       "min": 0,
       "step": 0.1,
       "value": 100
      }
     },
     "6f231692635a4e5083fc922f4ddbb43e": {
      "model_module": "jupyter-js-widgets",
      "model_module_version": "~2.1.4",
      "model_name": "VBoxModel",
      "state": {
       "_model_module_version": "~2.1.4",
       "_view_module_version": "~2.1.4",
       "children": [
        "IPY_MODEL_21a37d7649ac436c9b03acd9d917a621",
        "IPY_MODEL_7aa4fc1af4764614b4906f5433f534a7",
        "IPY_MODEL_5c5fec0242ba432e9c85220a61ab13d4",
        "IPY_MODEL_79863660417d494598019ff97eb9c587",
        "IPY_MODEL_2097a3e969ec482ba9a54886ad8e284a",
        "IPY_MODEL_1e897850841749efbea9cb2f18840136",
        "IPY_MODEL_acf6db55f28f4285b74a9e7b129f4c0d",
        "IPY_MODEL_e8705f2acc714eb7ac18396536adfe43",
        "IPY_MODEL_a49fed8caf8a4a4c9537768dee68bcf5",
        "IPY_MODEL_ae5d370aaea143929b7b20b4f5f2f0df",
        "IPY_MODEL_b58edc2da5f04fb081e2af78cce826b0",
        "IPY_MODEL_dad9ea94c5ce451db6636339cf40e46a",
        "IPY_MODEL_08e38064d54e4061b42ae42527a396b2",
        "IPY_MODEL_8f29cc417e81403fbd2e51a1e6a9a4b6",
        "IPY_MODEL_6ccdda429efe4205a749ac38f6e156f3",
        "IPY_MODEL_96da5dbc77384fedaa29875e88482e9d"
       ],
       "layout": "IPY_MODEL_10a0f015688d43b781f3760f8f7ccb68"
      }
     },
     "6fdb4419e6d14b719e6b33437bd81ba5": {
      "model_module": "jupyter-js-widgets",
      "model_module_version": "~2.1.4",
      "model_name": "LayoutModel",
      "state": {
       "_model_module_version": "~2.1.4",
       "_view_module_version": "~2.1.4"
      }
     },
     "70626d0c74b84ee5a54d9f0b767882a7": {
      "model_module": "bqplot",
      "model_module_version": "^0.2.3",
      "model_name": "AxisModel",
      "state": {
       "orientation": "vertical",
       "scale": "IPY_MODEL_79027370356f4186a002eb4a9c96b297",
       "side": "left",
       "tick_values": {
        "type": null,
        "values": null
       }
      }
     },
     "7245fb9db9ec4fec89e5a32da8f7e0de": {
      "model_module": "jupyter-js-widgets",
      "model_module_version": "~2.1.4",
      "model_name": "HBoxModel",
      "state": {
       "_model_module_version": "~2.1.4",
       "_view_module_version": "~2.1.4",
       "children": [
        "IPY_MODEL_8e71687b887348e7920b6dadf2c32d56",
        "IPY_MODEL_0fef55d593ae4adb87a6fb99d5e872ea"
       ],
       "layout": "IPY_MODEL_6b9c203ca60545818f4bee22aeee3dc1"
      }
     },
     "735d7600e2a34e8aba519920a758a3ed": {
      "model_module": "jupyter-js-widgets",
      "model_module_version": "~2.1.4",
      "model_name": "LayoutModel",
      "state": {
       "_model_module_version": "~2.1.4",
       "_view_module_version": "~2.1.4"
      }
     },
     "7387f50da7704ea5811321f6d58577ad": {
      "model_module": "jupyter-js-widgets",
      "model_module_version": "~2.1.4",
      "model_name": "LayoutModel",
      "state": {
       "_model_module_version": "~2.1.4",
       "_view_module_version": "~2.1.4",
       "min_width": "125px"
      }
     },
     "745e1564ca694e03b707bc9df3ec87b6": {
      "model_module": "jupyter-js-widgets",
      "model_module_version": "~2.1.4",
      "model_name": "FloatTextModel",
      "state": {
       "_model_module_version": "~2.1.4",
       "_view_module_version": "~2.1.4",
       "description": "Startup Time (hr):",
       "layout": "IPY_MODEL_f574a622795848e7b6321a0aae727f4c",
       "max": 24,
       "min": 0,
       "step": 0.1
      }
     },
     "779835465fc84bc084f6bed37af4548b": {
      "model_module": "bqplot",
      "model_module_version": "^0.2.3",
      "model_name": "LinearScaleModel",
      "state": {
       "allow_padding": false,
       "max": 1,
       "min": 0,
       "stabilized": false
      }
     },
     "78c91948eb974a73a246e8460e3123ce": {
      "model_module": "bqplot",
      "model_module_version": "^0.2.3",
      "model_name": "AxisModel",
      "state": {
       "orientation": "vertical",
       "scale": "IPY_MODEL_9ebde84627ea4eaca5de01165a78df02",
       "side": "left",
       "tick_values": {
        "type": null,
        "values": null
       }
      }
     },
     "79027370356f4186a002eb4a9c96b297": {
      "model_module": "bqplot",
      "model_module_version": "^0.2.3",
      "model_name": "LinearScaleModel",
      "state": {
       "max": 50,
       "min": 0,
       "stabilized": false
      }
     },
     "79863660417d494598019ff97eb9c587": {
      "model_module": "jupyter-js-widgets",
      "model_module_version": "~2.1.4",
      "model_name": "DropdownModel",
      "state": {
       "_model_module_version": "~2.1.4",
       "_options_labels": [
        "COAL",
        "NATURALGAS",
        "WIND"
       ],
       "_view_module_version": "~2.1.4",
       "description": "Generation Type:",
       "layout": "IPY_MODEL_de3d827ab99246a5a7d078af64cbd556",
       "value": "COAL"
      }
     },
     "7aa4fc1af4764614b4906f5433f534a7": {
      "model_module": "jupyter-js-widgets",
      "model_module_version": "~2.1.4",
      "model_name": "TextModel",
      "state": {
       "_model_module_version": "~2.1.4",
       "_view_module_version": "~2.1.4",
       "description": "Name",
       "layout": "IPY_MODEL_17343a17cb054549b4031137806973bb",
       "value": "GenCo0"
      }
     },
     "7d3aaa55ce3d4996b773a44732101b34": {
      "model_module": "jupyter-js-widgets",
      "model_module_version": "~2.1.4",
      "model_name": "FloatTextModel",
      "state": {
       "_model_module_version": "~2.1.4",
       "_view_module_version": "~2.1.4",
       "description": "No-Load Cost ($/hr):",
       "layout": "IPY_MODEL_cf1ee903a0c2411c8461d3b55e7fb18b",
       "max": 10000000000,
       "min": 0,
       "step": 0.1
      }
     },
     "7e8546be5ae1478694761f76603bd3c2": {
      "model_module": "jupyter-js-widgets",
      "model_module_version": "~2.1.4",
      "model_name": "SliderStyleModel",
      "state": {
       "_model_module_version": "~2.1.4",
       "_view_module_version": "~2.1.4"
      }
     },
     "820b23446f6847ae98e33a06adb05e2a": {
      "model_module": "jupyter-js-widgets",
      "model_module_version": "~2.1.4",
      "model_name": "LayoutModel",
      "state": {
       "_model_module_version": "~2.1.4",
       "_view_module_version": "~2.1.4"
      }
     },
     "859eef99d5dd400582bb58edbb343400": {
      "model_module": "bqplot",
      "model_module_version": "^0.2.3",
      "model_name": "LinearScaleModel",
      "state": {
       "allow_padding": false,
       "max": 1,
       "min": 0,
       "stabilized": false
      }
     },
     "85f037a3daa34e92b2c0f64bbbfcdd63": {
      "model_module": "jupyter-js-widgets",
      "model_module_version": "~2.1.4",
      "model_name": "LayoutModel",
      "state": {
       "_model_module_version": "~2.1.4",
       "_view_module_version": "~2.1.4"
      }
     },
     "88147b6e90bc45b08026dd88fed299ac": {
      "model_module": "jupyter-js-widgets",
      "model_module_version": "~2.1.4",
      "model_name": "LayoutModel",
      "state": {
       "_model_module_version": "~2.1.4",
       "_view_module_version": "~2.1.4"
      }
     },
     "89c4bc4a6cef4b5d9a7a5f8d3cc54d70": {
      "model_module": "jupyter-js-widgets",
      "model_module_version": "~2.1.4",
      "model_name": "LayoutModel",
      "state": {
       "_model_module_version": "~2.1.4",
       "_view_module_version": "~2.1.4"
      }
     },
     "8d0d217544a0417d8fa8c46f1e3866ba": {
      "model_module": "jupyter-js-widgets",
      "model_module_version": "~2.1.4",
      "model_name": "LinkModel",
      "state": {
       "_model_module_version": "~2.1.4",
       "_view_module_version": "~2.1.4",
       "source": [
        "IPY_MODEL_df1c5cc5e66f4d6eaca2d41ff8dcf026",
        "x"
       ],
       "target": [
        "IPY_MODEL_d272d797f394440dbc686c69d69fdc9e",
        "x"
       ]
      }
     },
     "8d421ee063cc493ab801652858d7818a": {
      "model_module": "jupyter-js-widgets",
      "model_module_version": "~2.1.4",
      "model_name": "FloatTextModel",
      "state": {
       "_model_module_version": "~2.1.4",
       "_view_module_version": "~2.1.4",
       "description": "Startup Cost ($/hr):",
       "layout": "IPY_MODEL_96c1916340bc4f40bc838955c67305b2",
       "max": 10000000000,
       "min": 0,
       "step": 0.1
      }
     },
     "8e71687b887348e7920b6dadf2c32d56": {
      "model_module": "jupyter-js-widgets",
      "model_module_version": "~2.1.4",
      "model_name": "VBoxModel",
      "state": {
       "_model_module_version": "~2.1.4",
       "_view_module_version": "~2.1.4",
       "children": [
        "IPY_MODEL_8f5444e2ef814893a8d103a20aee51e6",
        "IPY_MODEL_f6d7a2d91f584133a3e77505bb925e8a",
        "IPY_MODEL_252070ce59b1403181ad4e5071fc58fd",
        "IPY_MODEL_1a4624c5322c415293ed41e54227f312",
        "IPY_MODEL_d3b8eb386f1c4a82933b377d910d46ab",
        "IPY_MODEL_cb6a2f8fada24223b6abdcb800002375",
        "IPY_MODEL_f8ddf93aceed4d2c8baeca640a6fb04b",
        "IPY_MODEL_aebdbae1aa014fc3811ea0cf53807528",
        "IPY_MODEL_907cbf3a6aa5432092dd303c889a3e8e",
        "IPY_MODEL_59dc24388c714876b95b3dad2642de29",
        "IPY_MODEL_6d71ce23905f447ba141e75fe0d232cd",
        "IPY_MODEL_cf2154e7f2bb4e809b1fb30c4e385215",
        "IPY_MODEL_0962d009e890494ca690f1be63f865b3",
        "IPY_MODEL_4b061ee052bc4aea8681eab766c78bf0",
        "IPY_MODEL_7d3aaa55ce3d4996b773a44732101b34",
        "IPY_MODEL_8d421ee063cc493ab801652858d7818a"
       ],
       "layout": "IPY_MODEL_911c5183e9ad4d7fa020196701ef43d1"
      }
     },
     "8f29cc417e81403fbd2e51a1e6a9a4b6": {
      "model_module": "jupyter-js-widgets",
      "model_module_version": "~2.1.4",
      "model_name": "FloatTextModel",
      "state": {
       "_model_module_version": "~2.1.4",
       "_view_module_version": "~2.1.4",
       "description": "Shutdown Time (hr):",
       "layout": "IPY_MODEL_ed067bf60e484bf78a20411f4c698422",
       "max": 24,
       "min": 0,
       "step": 0.1
      }
     },
     "8f5444e2ef814893a8d103a20aee51e6": {
      "model_module": "jupyter-js-widgets",
      "model_module_version": "~2.1.4",
      "model_name": "HTMLModel",
      "state": {
       "_model_module_version": "~2.1.4",
       "_view_module_version": "~2.1.4",
       "layout": "IPY_MODEL_85f037a3daa34e92b2c0f64bbbfcdd63",
       "value": "Generator:"
      }
     },
     "900e944c59514f76a89b81ad9a4ffb9b": {
      "model_module": "jupyter-js-widgets",
      "model_module_version": "~2.1.4",
      "model_name": "LayoutModel",
      "state": {
       "_model_module_version": "~2.1.4",
       "_view_module_version": "~2.1.4",
       "min_width": "125px"
      }
     },
     "907cbf3a6aa5432092dd303c889a3e8e": {
      "model_module": "jupyter-js-widgets",
      "model_module_version": "~2.1.4",
      "model_name": "FloatTextModel",
      "state": {
       "_model_module_version": "~2.1.4",
       "_view_module_version": "~2.1.4",
       "description": "Minimum Down Time (hr):",
       "layout": "IPY_MODEL_d2097cb873c04f3497a1823802239a71",
       "max": 24,
       "min": 0,
       "step": 0.1,
       "value": 5
      }
     },
     "90ef21523db64cb59438f435713db8ec": {
      "model_module": "jupyter-js-widgets",
      "model_module_version": "~2.1.4",
      "model_name": "FloatTextModel",
      "state": {
       "_model_module_version": "~2.1.4",
       "_view_module_version": "~2.1.4",
       "description": "Minimum Down Time (hr):",
       "layout": "IPY_MODEL_4b54d7bc2167487ebc04087685cebb5b",
       "max": 24,
       "min": 0,
       "step": 0.1
      }
     },
     "911c5183e9ad4d7fa020196701ef43d1": {
      "model_module": "jupyter-js-widgets",
      "model_module_version": "~2.1.4",
      "model_name": "LayoutModel",
      "state": {
       "_model_module_version": "~2.1.4",
       "_view_module_version": "~2.1.4"
      }
     },
     "9223ad6a28074ca583b47c4125d8090f": {
      "model_module": "jupyter-js-widgets",
      "model_module_version": "~2.1.4",
      "model_name": "LayoutModel",
      "state": {
       "_model_module_version": "~2.1.4",
       "_view_module_version": "~2.1.4"
      }
     },
     "9313de1c956d434bae11c61229469d05": {
      "model_module": "jupyter-js-widgets",
      "model_module_version": "~2.1.4",
      "model_name": "LayoutModel",
      "state": {
       "_model_module_version": "~2.1.4",
       "_view_module_version": "~2.1.4"
      }
     },
     "9600a08e5ae64e6eb7d8c393f6aca4cd": {
      "model_module": "jupyter-js-widgets",
      "model_module_version": "~2.1.4",
      "model_name": "LayoutModel",
      "state": {
       "_model_module_version": "~2.1.4",
       "_view_module_version": "~2.1.4"
      }
     },
     "96c1916340bc4f40bc838955c67305b2": {
      "model_module": "jupyter-js-widgets",
      "model_module_version": "~2.1.4",
      "model_name": "LayoutModel",
      "state": {
       "_model_module_version": "~2.1.4",
       "_view_module_version": "~2.1.4"
      }
     },
     "96da5dbc77384fedaa29875e88482e9d": {
      "model_module": "jupyter-js-widgets",
      "model_module_version": "~2.1.4",
      "model_name": "FloatTextModel",
      "state": {
       "_model_module_version": "~2.1.4",
       "_view_module_version": "~2.1.4",
       "description": "Startup Cost ($/hr):",
       "layout": "IPY_MODEL_2822f0addf2241598e7efe1d9561dd7f",
       "max": 10000000000,
       "min": 0,
       "step": 0.1
      }
     },
     "98fd171e074443a3b917a460be41710b": {
      "model_module": "bqplot",
      "model_module_version": "^0.2.3",
      "model_name": "ScatterModel",
      "state": {
       "_model_module": "bqplot",
       "_model_module_version": "^0.2.3",
       "_view_module": "bqplot",
       "_view_module_version": "^0.2.3",
       "apply_clip": true,
       "color": {
        "type": null,
        "values": null
       },
       "colors": [
        "DeepSkyBlue"
       ],
       "display_legend": false,
       "enable_hover": true,
       "enable_move": true,
       "hovered_style": {},
       "interactions": {
        "click": null
       },
       "labels": [],
       "msg_throttle": 1,
       "names": {
        "type": null,
        "values": null
       },
       "opacity": {
        "type": null,
        "values": null
       },
       "preserve_domain": {},
       "rotation": {
        "type": null,
        "values": null
       },
       "scales": {
        "x": "IPY_MODEL_e7985b588cfd4e2c89661904a52de6ed",
        "y": "IPY_MODEL_79027370356f4186a002eb4a9c96b297"
       },
       "scales_metadata": {
        "color": {
         "dimension": "color"
        },
        "opacity": {
         "dimension": "opacity"
        },
        "size": {
         "dimension": "size"
        },
        "x": {
         "dimension": "x",
         "orientation": "horizontal"
        },
        "y": {
         "dimension": "y",
         "orientation": "vertical"
        }
       },
       "selected": [],
       "selected_style": {},
       "size": {
        "type": null,
        "values": null
       },
       "skew": {
        "type": null,
        "values": null
       },
       "tooltip": null,
       "tooltip_location": "mouse",
       "tooltip_style": {
        "opacity": 0.9
       },
       "unhovered_style": {},
       "unselected_style": {},
       "update_on_move": true,
       "visible": true,
       "x": {
        "type": "float",
        "values": [
         8.05453431372549,
         33.544730392156865,
         63.93688725490196,
         81.97610294117646
        ]
       },
       "y": {
        "type": "float",
        "values": [
         7.186558734939759,
         13.963667168674698,
         32.18655873493976,
         49.35523343373494
        ]
       }
      }
     },
     "9ebde84627ea4eaca5de01165a78df02": {
      "model_module": "bqplot",
      "model_module_version": "^0.2.3",
      "model_name": "LinearScaleModel",
      "state": {
       "max": 50,
       "min": 0,
       "stabilized": false
      }
     },
     "a2245f911ae7469b89ffc3506c106702": {
      "model_module": "jupyter-js-widgets",
      "model_module_version": "~2.1.4",
      "model_name": "CheckboxModel",
      "state": {
       "_model_module_version": "~2.1.4",
       "_view_module_version": "~2.1.4",
       "description": "Initial Status:",
       "disabled": false,
       "layout": "IPY_MODEL_ebaf40a80e684d6f805fe77203e360a3",
       "value": true
      }
     },
     "a49fed8caf8a4a4c9537768dee68bcf5": {
      "model_module": "jupyter-js-widgets",
      "model_module_version": "~2.1.4",
      "model_name": "FloatTextModel",
      "state": {
       "_model_module_version": "~2.1.4",
       "_view_module_version": "~2.1.4",
       "description": "Minimum Down Time (hr):",
       "layout": "IPY_MODEL_9223ad6a28074ca583b47c4125d8090f",
       "max": 24,
       "min": 0,
       "step": 0.1
      }
     },
     "aa0d1badfa6d44699b185e35fb72ad19": {
      "model_module": "jupyter-js-widgets",
      "model_module_version": "~2.1.4",
      "model_name": "LayoutModel",
      "state": {
       "_model_module_version": "~2.1.4",
       "_view_module_version": "~2.1.4"
      }
     },
     "acaf7624ba5a466c8c64046d12d8f942": {
      "model_module": "bqplot",
      "model_module_version": "^0.2.3",
      "model_name": "LinearScaleModel",
      "state": {
       "max": 100,
       "min": 0,
       "stabilized": false
      }
     },
     "acf6db55f28f4285b74a9e7b129f4c0d": {
      "model_module": "jupyter-js-widgets",
      "model_module_version": "~2.1.4",
      "model_name": "FloatTextModel",
      "state": {
       "_model_module_version": "~2.1.4",
       "_view_module_version": "~2.1.4",
       "description": "Initial Generation (MW):",
       "layout": "IPY_MODEL_9313de1c956d434bae11c61229469d05",
       "max": 100,
       "min": 0,
       "step": 0.1
      }
     },
     "ad4f40f527754ab483437aae5473b47d": {
      "model_module": "jupyter-js-widgets",
      "model_module_version": "~2.1.4",
      "model_name": "LayoutModel",
      "state": {
       "_model_module_version": "~2.1.4",
       "_view_module_version": "~2.1.4"
      }
     },
     "ae23f67356dc4ab681e0d9d53fb0c5af": {
      "model_module": "jupyter-js-widgets",
      "model_module_version": "~2.1.4",
      "model_name": "LayoutModel",
      "state": {
       "_model_module_version": "~2.1.4",
       "_view_module_version": "~2.1.4"
      }
     },
     "ae5d370aaea143929b7b20b4f5f2f0df": {
      "model_module": "jupyter-js-widgets",
      "model_module_version": "~2.1.4",
      "model_name": "IntSliderModel",
      "state": {
       "_model_module_version": "~2.1.4",
       "_view_module_version": "~2.1.4",
       "description": "Number of Cost Curve Segments",
       "layout": "IPY_MODEL_4351fe90e0624a94b2acf9d65334c48d",
       "max": 50,
       "min": 2,
       "style": "IPY_MODEL_7e8546be5ae1478694761f76603bd3c2",
       "value": 3
      }
     },
     "ae5faedb18654f14bfa7619858a35d70": {
      "model_module": "jupyter-js-widgets",
      "model_module_version": "~2.1.4",
      "model_name": "LayoutModel",
      "state": {
       "_model_module_version": "~2.1.4",
       "_view_module_version": "~2.1.4"
      }
     },
     "aebdbae1aa014fc3811ea0cf53807528": {
      "model_module": "jupyter-js-widgets",
      "model_module_version": "~2.1.4",
      "model_name": "FloatTextModel",
      "state": {
       "_model_module_version": "~2.1.4",
       "_view_module_version": "~2.1.4",
       "description": "Minimum Up Time (hr):",
       "layout": "IPY_MODEL_106a98a8ebc0496caaa0584b517f098d",
       "max": 24,
       "min": 0,
       "step": 0.1,
       "value": 5
      }
     },
     "af0e515ea94a4c3580f455c58792803d": {
      "model_module": "jupyter-js-widgets",
      "model_module_version": "~2.1.4",
      "model_name": "LayoutModel",
      "state": {
       "_model_module_version": "~2.1.4",
       "_view_module_version": "~2.1.4"
      }
     },
     "b401c5d90f1c4c37b9a0995f92efd184": {
      "model_module": "bqplot",
      "model_module_version": "^0.2.3",
      "model_name": "LinearScaleModel",
      "state": {
       "allow_padding": false,
       "max": 1,
       "min": 0,
       "stabilized": false
      }
     },
     "b58edc2da5f04fb081e2af78cce826b0": {
      "model_module": "jupyter-js-widgets",
      "model_module_version": "~2.1.4",
      "model_name": "FloatTextModel",
      "state": {
       "_model_module_version": "~2.1.4",
       "_view_module_version": "~2.1.4",
       "description": "Ramp Up Rate (MW/hr):",
       "layout": "IPY_MODEL_568ad95114564383b159e020d315c1a7",
       "max": 100,
       "min": 0,
       "step": 0.1,
       "value": 100
      }
     },
     "bcc86c2c144140abbd072c37e59e37db": {
      "model_module": "jupyter-js-widgets",
      "model_module_version": "~2.1.4",
      "model_name": "LayoutModel",
      "state": {
       "_model_module_version": "~2.1.4",
       "_view_module_version": "~2.1.4"
      }
     },
     "bd0094dea0a6496fbbcfca437edce834": {
      "model_module": "jupyter-js-widgets",
      "model_module_version": "~2.1.4",
      "model_name": "SliderStyleModel",
      "state": {
       "_model_module_version": "~2.1.4",
       "_view_module_version": "~2.1.4"
      }
     },
     "c5844a34ad014267bb56fcaf07fcf0b3": {
      "model_module": "jupyter-js-widgets",
      "model_module_version": "~2.1.4",
      "model_name": "FloatTextModel",
      "state": {
       "_model_module_version": "~2.1.4",
       "_view_module_version": "~2.1.4",
       "description": "Capacity (MW):",
       "layout": "IPY_MODEL_db9cf4b03c664af6a3ce5f890dd72dbe",
       "max": 10000000000,
       "min": 0,
       "step": 0.1,
       "value": 100
      }
     },
     "c68c1adf47b944839faffd3fd64e3c6a": {
      "model_module": "bqplot",
      "model_module_version": "^0.2.3",
      "model_name": "LinearScaleModel",
      "state": {
       "allow_padding": false,
       "max": 1,
       "min": 0,
       "stabilized": false
      }
     },
     "c82fc6e8f0e742bb9b1b97a7e4647b89": {
      "model_module": "jupyter-js-widgets",
      "model_module_version": "~2.1.4",
      "model_name": "LayoutModel",
      "state": {
       "_model_module_version": "~2.1.4",
       "_view_module_version": "~2.1.4"
      }
     },
     "cb6a2f8fada24223b6abdcb800002375": {
      "model_module": "jupyter-js-widgets",
      "model_module_version": "~2.1.4",
      "model_name": "FloatTextModel",
      "state": {
       "_model_module_version": "~2.1.4",
       "_view_module_version": "~2.1.4",
       "description": "Minimum Generation (MW):",
       "layout": "IPY_MODEL_ef127346e72143eba6a4c285817cf507",
       "max": 100,
       "min": 0,
       "step": 0.1,
       "value": 20
      }
     },
     "cf1ee903a0c2411c8461d3b55e7fb18b": {
      "model_module": "jupyter-js-widgets",
      "model_module_version": "~2.1.4",
      "model_name": "LayoutModel",
      "state": {
       "_model_module_version": "~2.1.4",
       "_view_module_version": "~2.1.4"
      }
     },
     "cf2154e7f2bb4e809b1fb30c4e385215": {
      "model_module": "jupyter-js-widgets",
      "model_module_version": "~2.1.4",
      "model_name": "FloatTextModel",
      "state": {
       "_model_module_version": "~2.1.4",
       "_view_module_version": "~2.1.4",
       "description": "Ramp Down Rate (MW/hr):",
       "layout": "IPY_MODEL_6b2d1aeb3bbf4163b1df5c5d667c63d3",
       "max": 100,
       "min": 0,
       "step": 0.1,
       "value": 100
      }
     },
     "cfbcd359c391412f871ad1a2121d85c7": {
      "model_module": "jupyter-js-widgets",
      "model_module_version": "~2.1.4",
      "model_name": "LayoutModel",
      "state": {
       "_model_module_version": "~2.1.4",
       "_view_module_version": "~2.1.4"
      }
     },
     "d2097cb873c04f3497a1823802239a71": {
      "model_module": "jupyter-js-widgets",
      "model_module_version": "~2.1.4",
      "model_name": "LayoutModel",
      "state": {
       "_model_module_version": "~2.1.4",
       "_view_module_version": "~2.1.4"
      }
     },
     "d272d797f394440dbc686c69d69fdc9e": {
      "model_module": "bqplot",
      "model_module_version": "^0.2.3",
      "model_name": "ScatterModel",
      "state": {
       "_model_module": "bqplot",
       "_model_module_version": "^0.2.3",
       "_view_module": "bqplot",
       "_view_module_version": "^0.2.3",
       "apply_clip": true,
       "color": {
        "type": null,
        "values": null
       },
       "colors": [
        "DeepSkyBlue"
       ],
       "display_legend": false,
       "enable_hover": true,
       "enable_move": true,
       "hovered_style": {},
       "interactions": {
        "click": null
       },
       "labels": [],
       "msg_throttle": 1,
       "names": {
        "type": null,
        "values": null
       },
       "opacity": {
        "type": null,
        "values": null
       },
       "preserve_domain": {},
       "rotation": {
        "type": null,
        "values": null
       },
       "scales": {
        "x": "IPY_MODEL_acaf7624ba5a466c8c64046d12d8f942",
        "y": "IPY_MODEL_9ebde84627ea4eaca5de01165a78df02"
       },
       "scales_metadata": {
        "color": {
         "dimension": "color"
        },
        "opacity": {
         "dimension": "opacity"
        },
        "size": {
         "dimension": "size"
        },
        "x": {
         "dimension": "x",
         "orientation": "horizontal"
        },
        "y": {
         "dimension": "y",
         "orientation": "vertical"
        }
       },
       "selected": [],
       "selected_style": {},
       "size": {
        "type": null,
        "values": null
       },
       "skew": {
        "type": null,
        "values": null
       },
       "tooltip": null,
       "tooltip_location": "mouse",
       "tooltip_style": {
        "opacity": 0.9
       },
       "unhovered_style": {},
       "unselected_style": {},
       "update_on_move": true,
       "visible": true,
       "x": {
        "type": "float",
        "values": [
         8.446691176470589,
         49.623161764705884,
         62.36825980392157,
         82.95649509803921
        ]
       },
       "y": {
        "type": "float",
        "values": [
         18.782944277108435,
         3.270896084337349,
         32.33716114457831,
         47.84920933734939
        ]
       }
      }
     },
     "d3b8eb386f1c4a82933b377d910d46ab": {
      "model_module": "jupyter-js-widgets",
      "model_module_version": "~2.1.4",
      "model_name": "FloatTextModel",
      "state": {
       "_model_module_version": "~2.1.4",
       "_view_module_version": "~2.1.4",
       "description": "Capacity (MW):",
       "layout": "IPY_MODEL_f45bfd0154024e76b4d95554f06969d5",
       "max": 10000000000,
       "min": 0,
       "step": 0.1,
       "value": 100
      }
     },
     "d948782a19284f649c5ef888c274244a": {
      "model_module": "bqplot",
      "model_module_version": "^0.2.3",
      "model_name": "LinesModel",
      "state": {
       "color": {
        "type": null,
        "values": null
       },
       "display_legend": false,
       "fill_colors": [],
       "labels": [
        "C1"
       ],
       "scales": {
        "x": "IPY_MODEL_e7985b588cfd4e2c89661904a52de6ed",
        "y": "IPY_MODEL_79027370356f4186a002eb4a9c96b297"
       },
       "selected": [],
       "x": {
        "type": "float",
        "values": [
         8.05453431372549,
         33.544730392156865,
         63.93688725490196,
         81.97610294117646
        ]
       },
       "y": {
        "type": "float",
        "values": [
         7.186558734939759,
         13.963667168674698,
         32.18655873493976,
         49.35523343373494
        ]
       }
      }
     },
     "d967269a9f414dd9a91fdaf070893650": {
      "model_module": "jupyter-js-widgets",
      "model_module_version": "~2.1.4",
      "model_name": "LinkModel",
      "state": {
       "_model_module_version": "~2.1.4",
       "_view_module_version": "~2.1.4",
       "source": [
        "IPY_MODEL_d948782a19284f649c5ef888c274244a",
        "x"
       ],
       "target": [
        "IPY_MODEL_98fd171e074443a3b917a460be41710b",
        "x"
       ]
      }
     },
     "dad9ea94c5ce451db6636339cf40e46a": {
      "model_module": "jupyter-js-widgets",
      "model_module_version": "~2.1.4",
      "model_name": "FloatTextModel",
      "state": {
       "_model_module_version": "~2.1.4",
       "_view_module_version": "~2.1.4",
       "description": "Ramp Down Rate (MW/hr):",
       "layout": "IPY_MODEL_cfbcd359c391412f871ad1a2121d85c7",
       "max": 100,
       "min": 0,
       "step": 0.1,
       "value": 100
      }
     },
     "db7188a42b404d13ae5de04dbf9190ba": {
      "model_module": "bqplot",
      "model_module_version": "^0.2.3",
      "model_name": "AxisModel",
      "state": {
       "scale": "IPY_MODEL_e7985b588cfd4e2c89661904a52de6ed",
       "side": "bottom",
       "tick_values": {
        "type": null,
        "values": null
       }
      }
     },
     "db9cf4b03c664af6a3ce5f890dd72dbe": {
      "model_module": "jupyter-js-widgets",
      "model_module_version": "~2.1.4",
      "model_name": "LayoutModel",
      "state": {
       "_model_module_version": "~2.1.4",
       "_view_module_version": "~2.1.4"
      }
     },
     "de3d827ab99246a5a7d078af64cbd556": {
      "model_module": "jupyter-js-widgets",
      "model_module_version": "~2.1.4",
      "model_name": "LayoutModel",
      "state": {
       "_model_module_version": "~2.1.4",
       "_view_module_version": "~2.1.4"
      }
     },
     "df1c5cc5e66f4d6eaca2d41ff8dcf026": {
      "model_module": "bqplot",
      "model_module_version": "^0.2.3",
      "model_name": "LinesModel",
      "state": {
       "color": {
        "type": null,
        "values": null
       },
       "display_legend": false,
       "fill_colors": [],
       "labels": [
        "C1"
       ],
       "scales": {
        "x": "IPY_MODEL_acaf7624ba5a466c8c64046d12d8f942",
        "y": "IPY_MODEL_9ebde84627ea4eaca5de01165a78df02"
       },
       "selected": [],
       "x": {
        "type": "float",
        "values": [
         8.446691176470589,
         49.623161764705884,
         62.36825980392157,
         82.95649509803921
        ]
       },
       "y": {
        "type": "float",
        "values": [
         18.782944277108435,
         3.270896084337349,
         32.33716114457831,
         47.84920933734939
        ]
       }
      }
     },
     "e285ad2add284bdab5e60d2d1369e02b": {
      "model_module": "jupyter-js-widgets",
      "model_module_version": "~2.1.4",
      "model_name": "LayoutModel",
      "state": {
       "_model_module_version": "~2.1.4",
       "_view_module_version": "~2.1.4"
      }
     },
     "e32a994d08694a85a889191dc5ea6c72": {
      "model_module": "jupyter-js-widgets",
      "model_module_version": "~2.1.4",
      "model_name": "FloatTextModel",
      "state": {
       "_model_module_version": "~2.1.4",
       "_view_module_version": "~2.1.4",
       "description": "Shutdown Time (hr):",
       "layout": "IPY_MODEL_03002213695b46fea978a960235e61bd",
       "max": 24,
       "min": 0,
       "step": 0.1
      }
     },
     "e3578ab3b0894ee8b227aef266bc7813": {
      "model_module": "jupyter-js-widgets",
      "model_module_version": "~2.1.4",
      "model_name": "FloatTextModel",
      "state": {
       "_model_module_version": "~2.1.4",
       "_view_module_version": "~2.1.4",
       "description": "Ramp Up Rate (MW/hr):",
       "layout": "IPY_MODEL_ee308dfe25774900838bacd436994558",
       "max": 100,
       "min": 0,
       "step": 0.1,
       "value": 100
      }
     },
     "e7985b588cfd4e2c89661904a52de6ed": {
      "model_module": "bqplot",
      "model_module_version": "^0.2.3",
      "model_name": "LinearScaleModel",
      "state": {
       "max": 100,
       "min": 0,
       "stabilized": false
      }
     },
     "e8705f2acc714eb7ac18396536adfe43": {
      "model_module": "jupyter-js-widgets",
      "model_module_version": "~2.1.4",
      "model_name": "FloatTextModel",
      "state": {
       "_model_module_version": "~2.1.4",
       "_view_module_version": "~2.1.4",
       "description": "Minimum Up Time (hr):",
       "layout": "IPY_MODEL_ae5faedb18654f14bfa7619858a35d70",
       "max": 24,
       "min": 0,
       "step": 0.1
      }
     },
     "e99d1d0f73d1490c8788b248ff10efaf": {
      "model_module": "bqplot",
      "model_module_version": "^0.2.3",
      "model_name": "LinearScaleModel",
      "state": {
       "allow_padding": false,
       "max": 1,
       "min": 0,
       "stabilized": false
      }
     },
     "ebaf40a80e684d6f805fe77203e360a3": {
      "model_module": "jupyter-js-widgets",
      "model_module_version": "~2.1.4",
      "model_name": "LayoutModel",
      "state": {
       "_model_module_version": "~2.1.4",
       "_view_module_version": "~2.1.4"
      }
     },
     "ed067bf60e484bf78a20411f4c698422": {
      "model_module": "jupyter-js-widgets",
      "model_module_version": "~2.1.4",
      "model_name": "LayoutModel",
      "state": {
       "_model_module_version": "~2.1.4",
       "_view_module_version": "~2.1.4"
      }
     },
     "ee308dfe25774900838bacd436994558": {
      "model_module": "jupyter-js-widgets",
      "model_module_version": "~2.1.4",
      "model_name": "LayoutModel",
      "state": {
       "_model_module_version": "~2.1.4",
       "_view_module_version": "~2.1.4"
      }
     },
     "ee8db3bf511a48d89b8f3d0125045879": {
      "model_module": "jupyter-js-widgets",
      "model_module_version": "~2.1.4",
      "model_name": "SliderStyleModel",
      "state": {
       "_model_module_version": "~2.1.4",
       "_view_module_version": "~2.1.4"
      }
     },
     "ee9a32475ebc4fa1ac48727e48c46dd4": {
      "model_module": "jupyter-js-widgets",
      "model_module_version": "~2.1.4",
      "model_name": "FloatTextModel",
      "state": {
       "_model_module_version": "~2.1.4",
       "_view_module_version": "~2.1.4",
       "description": "No-Load Cost ($/hr):",
       "layout": "IPY_MODEL_000f6fd9562e44cdaaa688f8210cc1ae",
       "max": 10000000000,
       "min": 0,
       "step": 0.1
      }
     },
     "ef127346e72143eba6a4c285817cf507": {
      "model_module": "jupyter-js-widgets",
      "model_module_version": "~2.1.4",
      "model_name": "LayoutModel",
      "state": {
       "_model_module_version": "~2.1.4",
       "_view_module_version": "~2.1.4"
      }
     },
     "ef5498ace7d140698a14e10afe0e8e99": {
      "model_module": "jupyter-js-widgets",
      "model_module_version": "~2.1.4",
      "model_name": "HTMLModel",
      "state": {
       "_model_module_version": "~2.1.4",
       "_view_module_version": "~2.1.4",
       "layout": "IPY_MODEL_6160ab47ec3c45d2916ecd7526eb69f8",
       "value": "Generator:"
      }
     },
     "f00d4cf9807d4d07a4a229c00f0365b9": {
      "model_module": "bqplot",
      "model_module_version": "^0.2.3",
      "model_name": "ScatterModel",
      "state": {
       "_model_module": "bqplot",
       "_model_module_version": "^0.2.3",
       "_view_module": "bqplot",
       "_view_module_version": "^0.2.3",
       "apply_clip": true,
       "color": {
        "type": null,
        "values": null
       },
       "colors": [
        "DeepSkyBlue"
       ],
       "display_legend": false,
       "enable_hover": true,
       "enable_move": true,
       "hovered_style": {},
       "interactions": {
        "click": null
       },
       "labels": [],
       "msg_throttle": 1,
       "names": {
        "type": null,
        "values": null
       },
       "opacity": {
        "type": null,
        "values": null
       },
       "preserve_domain": {},
       "rotation": {
        "type": null,
        "values": null
       },
       "scales": {
        "x": "IPY_MODEL_2dcfee4dd8b64d958dc96fdec364c352",
        "y": "IPY_MODEL_0ed4f3335246481ab110cf7c6bed85a7"
       },
       "scales_metadata": {
        "color": {
         "dimension": "color"
        },
        "opacity": {
         "dimension": "opacity"
        },
        "size": {
         "dimension": "size"
        },
        "x": {
         "dimension": "x",
         "orientation": "horizontal"
        },
        "y": {
         "dimension": "y",
         "orientation": "vertical"
        }
       },
       "selected": [],
       "selected_style": {},
       "size": {
        "type": null,
        "values": null
       },
       "skew": {
        "type": null,
        "values": null
       },
       "tooltip": null,
       "tooltip_location": "mouse",
       "tooltip_style": {
        "opacity": 0.9
       },
       "unhovered_style": {},
       "unselected_style": {},
       "update_on_move": true,
       "visible": true,
       "x": {
        "type": "float",
        "values": [
         20,
         60,
         100
        ]
       },
       "y": {
        "type": "float",
        "values": [
         0,
         0,
         0
        ]
       }
      }
     },
     "f071c7803c2143b8b51e66005137dcaf": {
      "model_module": "jupyter-js-widgets",
      "model_module_version": "~2.1.4",
      "model_name": "VBoxModel",
      "state": {
       "_model_module_version": "~2.1.4",
       "_view_module_version": "~2.1.4",
       "children": [
        "IPY_MODEL_575d588d73cc4798bd1b652db8c81d93"
       ],
       "layout": "IPY_MODEL_5fd3f8b8e8594f15b8ad15fe62c60e06"
      }
     },
     "f20358e5895e45c2bb909594f710e090": {
      "model_module": "jupyter-js-widgets",
      "model_module_version": "~2.1.4",
      "model_name": "FloatTextModel",
      "state": {
       "_model_module_version": "~2.1.4",
       "_view_module_version": "~2.1.4",
       "description": "Startup Cost ($/hr):",
       "layout": "IPY_MODEL_ad4f40f527754ab483437aae5473b47d",
       "max": 10000000000,
       "min": 0,
       "step": 0.1
      }
     },
     "f401d840a6904feeaf912b763691e601": {
      "model_module": "jupyter-js-widgets",
      "model_module_version": "~2.1.4",
      "model_name": "LayoutModel",
      "state": {
       "_model_module_version": "~2.1.4",
       "_view_module_version": "~2.1.4"
      }
     },
     "f45bfd0154024e76b4d95554f06969d5": {
      "model_module": "jupyter-js-widgets",
      "model_module_version": "~2.1.4",
      "model_name": "LayoutModel",
      "state": {
       "_model_module_version": "~2.1.4",
       "_view_module_version": "~2.1.4"
      }
     },
     "f4d5ac8d602c45b8a3879ea7f8380c62": {
      "model_module": "jupyter-js-widgets",
      "model_module_version": "~2.1.4",
      "model_name": "FloatTextModel",
      "state": {
       "_model_module_version": "~2.1.4",
       "_view_module_version": "~2.1.4",
       "description": "Minimum Generation (MW):",
       "layout": "IPY_MODEL_aa0d1badfa6d44699b185e35fb72ad19",
       "max": 100,
       "min": 0,
       "step": 0.1
      }
     },
     "f574a622795848e7b6321a0aae727f4c": {
      "model_module": "jupyter-js-widgets",
      "model_module_version": "~2.1.4",
      "model_name": "LayoutModel",
      "state": {
       "_model_module_version": "~2.1.4",
       "_view_module_version": "~2.1.4"
      }
     },
     "f5ac4e067c1e4ef78396721f3911d7f1": {
      "model_module": "jupyter-js-widgets",
      "model_module_version": "~2.1.4",
      "model_name": "FloatTextModel",
      "state": {
       "_model_module_version": "~2.1.4",
       "_view_module_version": "~2.1.4",
       "description": "Ramp Down Rate (MW/hr):",
       "layout": "IPY_MODEL_f401d840a6904feeaf912b763691e601",
       "max": 100,
       "min": 0,
       "step": 0.1,
       "value": 100
      }
     },
     "f6d7a2d91f584133a3e77505bb925e8a": {
      "model_module": "jupyter-js-widgets",
      "model_module_version": "~2.1.4",
      "model_name": "TextModel",
      "state": {
       "_model_module_version": "~2.1.4",
       "_view_module_version": "~2.1.4",
       "description": "Name",
       "layout": "IPY_MODEL_30a85b5565f14b25910cf7d5c6053e72",
       "value": "GenCo0"
      }
     },
     "f74c6b3403b34663987ccb75aa0a60fc": {
      "model_module": "jupyter-js-widgets",
      "model_module_version": "~2.1.4",
      "model_name": "LayoutModel",
      "state": {
       "_model_module_version": "~2.1.4",
       "_view_module_version": "~2.1.4"
      }
     },
     "f8bc611069374a9e876af72d146ea79d": {
      "model_module": "jupyter-js-widgets",
      "model_module_version": "~2.1.4",
      "model_name": "LayoutModel",
      "state": {
       "_model_module_version": "~2.1.4",
       "_view_module_version": "~2.1.4"
      }
     },
     "f8ddf93aceed4d2c8baeca640a6fb04b": {
      "model_module": "jupyter-js-widgets",
      "model_module_version": "~2.1.4",
      "model_name": "FloatTextModel",
      "state": {
       "_model_module_version": "~2.1.4",
       "_view_module_version": "~2.1.4",
       "description": "Initial Generation (MW):",
       "layout": "IPY_MODEL_6fdb4419e6d14b719e6b33437bd81ba5",
       "max": 100,
       "min": 0,
       "step": 0.1,
       "value": 40
      }
     }
    },
    "version_major": 1,
    "version_minor": 0
   }
  }
 },
 "nbformat": 4,
 "nbformat_minor": 4
}
