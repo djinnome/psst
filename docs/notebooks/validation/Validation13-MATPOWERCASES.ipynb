{
 "cells": [
  {
   "cell_type": "markdown",
   "metadata": {},
   "source": [
    "# Validation 13 - Matpower Cases"
   ]
  },
  {
   "cell_type": "code",
   "execution_count": 2,
   "metadata": {},
   "outputs": [],
   "source": [
    "import os"
   ]
  },
  {
   "cell_type": "code",
   "execution_count": 7,
   "metadata": {
    "deletable": true,
    "editable": true
   },
   "outputs": [],
   "source": [
    "from psst.case import read_matpower\n",
    "\n",
    "import pandas as pd\n",
    "\n",
    "from psst.model import build_model\n",
    "\n",
    "mpc_files = []\n",
    "\n",
    "root= '../../../../../Matpower_instances/matpower/'\n",
    "\n",
    "for mpc in os.listdir(root):\n",
    "    if mpc.startswith('case') and mpc.endswith('.m'):\n",
    "        mpc_files.append(os.path.abspath(os.path.join(root, mpc)))\n",
    "\n",
    "import getpass\n",
    "        \n",
    "USER = getpass.getuser()"
   ]
  },
  {
   "cell_type": "code",
   "execution_count": null,
   "metadata": {},
   "outputs": [],
   "source": []
  },
  {
   "cell_type": "code",
   "execution_count": 8,
   "metadata": {
    "collapsed": false,
    "jupyter": {
     "outputs_hidden": false
    }
   },
   "outputs": [],
   "source": [
    "mpc_files = [ '{}/data/case5.m'.format(root),\n",
    " '{}/data/case30.m'.format(root),\n",
    " '{}/data/case6ww.m'.format(root),\n",
    " '{}/data/case9.m'.format(root),\n",
    " '{}/data/case9target.m'.format(root),\n",
    "]\n"
   ]
  },
  {
   "cell_type": "code",
   "execution_count": 12,
   "metadata": {
    "collapsed": false,
    "jupyter": {
     "outputs_hidden": false
    }
   },
   "outputs": [
    {
     "name": "stderr",
     "output_type": "stream",
     "text": [
      "WARNING:psst.case:'COST_2'\n"
     ]
    },
    {
     "name": "stdout",
     "output_type": "stream",
     "text": [
      "Changed model.MinimumPowerOutput to use within=Reals\n",
      "Changed model.MinimumPowerOutput to use within=Reals\n",
      "Changed model.MinimumPowerOutput to use within=Reals\n",
      "Changed model.MinimumPowerOutput to use within=Reals\n",
      "Changed model.MinimumPowerOutput to use within=Reals\n"
     ]
    }
   ],
   "source": [
    "\n",
    "mpc_case = dict()\n",
    "mpc_results = dict()\n",
    "\n",
    "for mpc in mpc_files:\n",
    "\n",
    "    try:\n",
    "        case = read_matpower(mpc)\n",
    "\n",
    "        model = build_model(case)\n",
    "\n",
    "        model.solve(solver='glpk', verbose=False)\n",
    "\n",
    "        s1 = (model.results.angles / 2 / pd.np.pi * 360).T[0]\n",
    "\n",
    "        case_name = mpc.split('/')[-1].replace('.m', '')\n",
    "        mpc_case[case_name] = [v for v in model.results.power_generated.values[0]]\n",
    "        mpc_results[case_name] = dict()\n",
    "        mpc_results[case_name]['line_power'] = model.results.line_power.values\n",
    "        mpc_results[case_name]['angles'] = model.results.angles.values * 360 / 2 / pd.np.pi\n",
    "\n",
    "        \n",
    "    except Exception as e:\n",
    "        print('Unable to solve {}\\n{}'.format(mpc, e))"
   ]
  },
  {
   "cell_type": "code",
   "execution_count": 11,
   "metadata": {
    "collapsed": false,
    "jupyter": {
     "outputs_hidden": false
    }
   },
   "outputs": [
    {
     "name": "stdout",
     "output_type": "stream",
     "text": [
      "case5\n",
      "case30\n",
      "case6ww\n",
      "case9\n",
      "case9target\n"
     ]
    }
   ],
   "source": [
    "for k in mpc_case:\n",
    "    print(k)\n",
    "    mpc_case"
   ]
  },
  {
   "cell_type": "code",
   "execution_count": 13,
   "metadata": {},
   "outputs": [],
   "source": [
    "from scipy.io import loadmat"
   ]
  },
  {
   "cell_type": "code",
   "execution_count": 20,
   "metadata": {
    "collapsed": false,
    "jupyter": {
     "outputs_hidden": false
    }
   },
   "outputs": [],
   "source": [
    "matpower = loadmat('/Users/{}/Documents/GitRepos/matpower/results.mat'.format(USER))"
   ]
  },
  {
   "cell_type": "code",
   "execution_count": 14,
   "metadata": {},
   "outputs": [],
   "source": [
    "def rmse(predictions, targets):\n",
    "    predictions = pd.DataFrame(predictions).T[0]\n",
    "    targets = pd.DataFrame(targets)[0]\n",
    "    return np.sqrt(((predictions - targets) ** 2).mean())"
   ]
  },
  {
   "cell_type": "code",
   "execution_count": 15,
   "metadata": {},
   "outputs": [],
   "source": [
    "import numpy as np"
   ]
  },
  {
   "cell_type": "code",
   "execution_count": 16,
   "metadata": {
    "collapsed": false,
    "jupyter": {
     "outputs_hidden": false
    }
   },
   "outputs": [
    {
     "ename": "NameError",
     "evalue": "name 'matpower' is not defined",
     "output_type": "error",
     "traceback": [
      "\u001b[0;31m---------------------------------------------------------------------------\u001b[0m",
      "\u001b[0;31mNameError\u001b[0m                                 Traceback (most recent call last)",
      "\u001b[0;32m<ipython-input-16-e56c05bfecd8>\u001b[0m in \u001b[0;36m<module>\u001b[0;34m\u001b[0m\n\u001b[0;32m----> 1\u001b[0;31m \u001b[0mprint\u001b[0m\u001b[0;34m(\u001b[0m\u001b[0;34m'case30'\u001b[0m\u001b[0;34m,\u001b[0m \u001b[0mrmse\u001b[0m\u001b[0;34m(\u001b[0m\u001b[0mmpc_results\u001b[0m\u001b[0;34m[\u001b[0m\u001b[0;34m'case30'\u001b[0m\u001b[0;34m]\u001b[0m\u001b[0;34m[\u001b[0m\u001b[0;34m'angles'\u001b[0m\u001b[0;34m]\u001b[0m\u001b[0;34m,\u001b[0m \u001b[0mmatpower\u001b[0m\u001b[0;34m[\u001b[0m\u001b[0;34m'a30'\u001b[0m\u001b[0;34m]\u001b[0m\u001b[0;34m)\u001b[0m\u001b[0;34m)\u001b[0m\u001b[0;34m\u001b[0m\u001b[0;34m\u001b[0m\u001b[0m\n\u001b[0m\u001b[1;32m      2\u001b[0m \u001b[0mprint\u001b[0m\u001b[0;34m(\u001b[0m\u001b[0;34m'case9'\u001b[0m\u001b[0;34m,\u001b[0m \u001b[0mrmse\u001b[0m\u001b[0;34m(\u001b[0m\u001b[0mmpc_results\u001b[0m\u001b[0;34m[\u001b[0m\u001b[0;34m'case9'\u001b[0m\u001b[0;34m]\u001b[0m\u001b[0;34m[\u001b[0m\u001b[0;34m'angles'\u001b[0m\u001b[0;34m]\u001b[0m\u001b[0;34m,\u001b[0m \u001b[0mmatpower\u001b[0m\u001b[0;34m[\u001b[0m\u001b[0;34m'a9'\u001b[0m\u001b[0;34m]\u001b[0m\u001b[0;34m)\u001b[0m\u001b[0;34m)\u001b[0m\u001b[0;34m\u001b[0m\u001b[0;34m\u001b[0m\u001b[0m\n\u001b[1;32m      3\u001b[0m \u001b[0mprint\u001b[0m\u001b[0;34m(\u001b[0m\u001b[0;34m'case6ww'\u001b[0m\u001b[0;34m,\u001b[0m \u001b[0mrmse\u001b[0m\u001b[0;34m(\u001b[0m\u001b[0mmpc_results\u001b[0m\u001b[0;34m[\u001b[0m\u001b[0;34m'case6ww'\u001b[0m\u001b[0;34m]\u001b[0m\u001b[0;34m[\u001b[0m\u001b[0;34m'angles'\u001b[0m\u001b[0;34m]\u001b[0m\u001b[0;34m,\u001b[0m \u001b[0mmatpower\u001b[0m\u001b[0;34m[\u001b[0m\u001b[0;34m'a6ww'\u001b[0m\u001b[0;34m]\u001b[0m\u001b[0;34m)\u001b[0m\u001b[0;34m)\u001b[0m\u001b[0;34m\u001b[0m\u001b[0;34m\u001b[0m\u001b[0m\n\u001b[1;32m      4\u001b[0m \u001b[0mprint\u001b[0m\u001b[0;34m(\u001b[0m\u001b[0;34m'case5'\u001b[0m\u001b[0;34m,\u001b[0m \u001b[0mrmse\u001b[0m\u001b[0;34m(\u001b[0m\u001b[0mmpc_results\u001b[0m\u001b[0;34m[\u001b[0m\u001b[0;34m'case5'\u001b[0m\u001b[0;34m]\u001b[0m\u001b[0;34m[\u001b[0m\u001b[0;34m'angles'\u001b[0m\u001b[0;34m]\u001b[0m\u001b[0;34m,\u001b[0m \u001b[0mmatpower\u001b[0m\u001b[0;34m[\u001b[0m\u001b[0;34m'a5'\u001b[0m\u001b[0;34m]\u001b[0m\u001b[0;34m)\u001b[0m\u001b[0;34m)\u001b[0m\u001b[0;34m\u001b[0m\u001b[0;34m\u001b[0m\u001b[0m\n\u001b[1;32m      5\u001b[0m \u001b[0mprint\u001b[0m\u001b[0;34m(\u001b[0m\u001b[0;34m'case9target'\u001b[0m\u001b[0;34m,\u001b[0m \u001b[0mrmse\u001b[0m\u001b[0;34m(\u001b[0m\u001b[0mmpc_results\u001b[0m\u001b[0;34m[\u001b[0m\u001b[0;34m'case9target'\u001b[0m\u001b[0;34m]\u001b[0m\u001b[0;34m[\u001b[0m\u001b[0;34m'angles'\u001b[0m\u001b[0;34m]\u001b[0m\u001b[0;34m,\u001b[0m \u001b[0mmatpower\u001b[0m\u001b[0;34m[\u001b[0m\u001b[0;34m'a9target'\u001b[0m\u001b[0;34m]\u001b[0m\u001b[0;34m)\u001b[0m\u001b[0;34m)\u001b[0m\u001b[0;34m\u001b[0m\u001b[0;34m\u001b[0m\u001b[0m\n",
      "\u001b[0;31mNameError\u001b[0m: name 'matpower' is not defined"
     ]
    }
   ],
   "source": [
    "print('case30', rmse(mpc_results['case30']['angles'], matpower['a30']))\n",
    "print('case9', rmse(mpc_results['case9']['angles'], matpower['a9']))\n",
    "print('case6ww', rmse(mpc_results['case6ww']['angles'], matpower['a6ww']))\n",
    "print('case5', rmse(mpc_results['case5']['angles'], matpower['a5']))\n",
    "print('case9target', rmse(mpc_results['case9target']['angles'], matpower['a9target']))\n"
   ]
  },
  {
   "cell_type": "code",
   "execution_count": 24,
   "metadata": {
    "collapsed": false,
    "jupyter": {
     "outputs_hidden": false
    }
   },
   "outputs": [
    {
     "name": "stdout",
     "output_type": "stream",
     "text": [
      "('case30', 5.7540935602070547e-14)\n",
      "('case9', 2.5646338774393149e-14)\n",
      "('case6ww', 2.3228879851839006e-14)\n",
      "('case5', 2.4123597344804154e-13)\n",
      "('case9target', 5.4935306698989068)\n"
     ]
    }
   ],
   "source": [
    "print('case30', rmse(mpc_results['case30']['line_power'], matpower['lp30']))\n",
    "print('case9', rmse(mpc_results['case9']['line_power'], matpower['lp9']))\n",
    "print('case6ww', rmse(mpc_results['case6ww']['line_power'], matpower['lp6ww']))\n",
    "print('case5', rmse(mpc_results['case5']['line_power'], matpower['lp5']))\n",
    "print('case9target', rmse(mpc_results['case9target']['line_power'], matpower['lp9target']))\n"
   ]
  },
  {
   "cell_type": "code",
   "execution_count": null,
   "metadata": {
    "collapsed": true,
    "jupyter": {
     "outputs_hidden": true
    }
   },
   "outputs": [],
   "source": []
  },
  {
   "cell_type": "code",
   "execution_count": null,
   "metadata": {
    "collapsed": true,
    "jupyter": {
     "outputs_hidden": true
    }
   },
   "outputs": [],
   "source": []
  },
  {
   "cell_type": "code",
   "execution_count": null,
   "metadata": {
    "collapsed": true,
    "jupyter": {
     "outputs_hidden": true
    }
   },
   "outputs": [],
   "source": []
  }
 ],
 "metadata": {
  "kernelspec": {
   "display_name": "anaconda3-2019.10",
   "language": "python",
   "name": "anaconda3-2019.10"
  },
  "language_info": {
   "codemirror_mode": {
    "name": "ipython",
    "version": 3
   },
   "file_extension": ".py",
   "mimetype": "text/x-python",
   "name": "python",
   "nbconvert_exporter": "python",
   "pygments_lexer": "ipython3",
   "version": "3.7.4"
  }
 },
 "nbformat": 4,
 "nbformat_minor": 4
}
